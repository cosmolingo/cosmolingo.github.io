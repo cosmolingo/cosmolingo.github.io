{
 "cells": [
  {
   "cell_type": "code",
   "execution_count": null,
   "metadata": {},
   "outputs": [],
   "source": [
    "import mysql.connector\n",
    "\n",
    "def add_to_db(word,word_ka,word_fr,word_ru,word_kr,word_jp,word_pronunciation,word_type,word_gender,word_tag):\n",
    "        try:\n",
    "            connection = mysql.connector.connect(\n",
    "                host='localhost',\n",
    "                user='root',\n",
    "                password='RandoDumbai18',\n",
    "                database='cosmolingo'\n",
    "            )\n",
    "            cursor = connection.cursor()\n",
    "            query_check = \"SELECT COUNT(*) FROM words WHERE word = %s\"\n",
    "            cursor.execute(query_check, (word,))\n",
    "            result = cursor.fetchone()\n",
    "            if result[0] == 0:\n",
    "                query_insert = \"INSERT INTO words (word,word_ka,word_fr,word_ru,word_kr,word_jp,word_pronunciation,word_type,word_gender,word_tag) VALUES (%s,%s,%s,%s,%s,%s,%s,%s,%s,%s)\"\n",
    "                cursor.execute(query_insert, (word,word_ka,word_fr,word_ru,word_kr,word_jp,word_pronunciation,word_type,word_gender,word_tag))\n",
    "            connection.commit()\n",
    "        except mysql.connector.Error as err:\n",
    "            print(f\"Error: {err}\")\n",
    "        finally:\n",
    "            if connection.is_connected():\n",
    "                cursor.close()\n",
    "                connection.close()"
   ]
  },
  {
   "cell_type": "code",
   "execution_count": 21,
   "metadata": {},
   "outputs": [
    {
     "name": "stdout",
     "output_type": "stream",
     "text": [
      "(1,)\n"
     ]
    }
   ],
   "source": [
    "add_to_db(\"test\")"
   ]
  },
  {
   "cell_type": "code",
   "execution_count": null,
   "metadata": {},
   "outputs": [],
   "source": [
    "#query = \"ALTER TABLE words AUTO_INCREMENT = 1;\"\n",
    "\n",
    "with open('words.txt') as f:\n",
    "    words = f.read().split('\\n')\n",
    "    for word in words:\n",
    "        word_meta = word.split(':')[0]\n",
    "        if ';' in word_meta:\n",
    "            word_tag = word_meta.split(';')[1]\n",
    "            word_meta = word_meta.split(';')[0]\n",
    "        else:\n",
    "            word_tag = None\n",
    "        if '-' not in word_meta:\n",
    "            word_type = word_meta\n",
    "            word_gender = None\n",
    "        else:\n",
    "            word_type = word_meta.split('-')[0]\n",
    "            word_gender = word_meta.split('-')[1]\n",
    "        word_translations = word.split(':')[1:]\n",
    "        if '(' in word_translations[2]:\n",
    "            word_pronunciation = word_translations[2].split('(')[1].split(')')[0]\n",
    "            word_translations[2] = word_translations[2].split('(')[0]\n",
    "        else:\n",
    "            word_pronunciation = None\n",
    "        word_ka = word_translations[0]\n",
    "        word_en = word_translations[1]\n",
    "        word_translations[0] = word_en\n",
    "        word_translations[1] = word_ka\n",
    "        \n",
    "        add_to_db(*word_translations,word_pronunciation,word_type,word_gender,word_tag)"
   ]
  }
 ],
 "metadata": {
  "kernelspec": {
   "display_name": "Python 3",
   "language": "python",
   "name": "python3"
  },
  "language_info": {
   "codemirror_mode": {
    "name": "ipython",
    "version": 3
   },
   "file_extension": ".py",
   "mimetype": "text/x-python",
   "name": "python",
   "nbconvert_exporter": "python",
   "pygments_lexer": "ipython3",
   "version": "3.13.0"
  }
 },
 "nbformat": 4,
 "nbformat_minor": 2
}
